{
 "cells": [
  {
   "cell_type": "markdown",
   "metadata": {},
   "source": [
    "## Importing packages"
   ]
  },
  {
   "cell_type": "code",
   "execution_count": 6,
   "metadata": {},
   "outputs": [
    {
     "name": "stdout",
     "output_type": "stream",
     "text": [
      "Collecting openpyxl\n",
      "  Downloading openpyxl-3.1.2-py2.py3-none-any.whl (249 kB)\n",
      "     ---------------------------------------- 0.0/250.0 kB ? eta -:--:--\n",
      "     - -------------------------------------- 10.2/250.0 kB ? eta -:--:--\n",
      "     - -------------------------------------- 10.2/250.0 kB ? eta -:--:--\n",
      "     ------ ------------------------------ 41.0/250.0 kB 245.8 kB/s eta 0:00:01\n",
      "     --------- --------------------------- 61.4/250.0 kB 328.2 kB/s eta 0:00:01\n",
      "     --------- --------------------------- 61.4/250.0 kB 328.2 kB/s eta 0:00:01\n",
      "     -------------------- --------------- 143.4/250.0 kB 502.3 kB/s eta 0:00:01\n",
      "     ------------------------------------ 250.0/250.0 kB 768.4 kB/s eta 0:00:00\n",
      "Collecting et-xmlfile (from openpyxl)\n",
      "  Downloading et_xmlfile-1.1.0-py3-none-any.whl (4.7 kB)\n",
      "Installing collected packages: et-xmlfile, openpyxl\n",
      "Successfully installed et-xmlfile-1.1.0 openpyxl-3.1.2\n"
     ]
    }
   ],
   "source": [
    "!pip install openpyxl"
   ]
  },
  {
   "cell_type": "code",
   "execution_count": 3,
   "metadata": {},
   "outputs": [
    {
     "name": "stderr",
     "output_type": "stream",
     "text": [
      "C:\\Users\\yadne\\AppData\\Local\\Temp\\ipykernel_5540\\2162656668.py:1: DeprecationWarning: \n",
      "Pyarrow will become a required dependency of pandas in the next major release of pandas (pandas 3.0),\n",
      "(to allow more performant data types, such as the Arrow string type, and better interoperability with other libraries)\n",
      "but was not found to be installed on your system.\n",
      "If this would cause problems for you,\n",
      "please provide us feedback at https://github.com/pandas-dev/pandas/issues/54466\n",
      "        \n",
      "  import pandas as pd\n"
     ]
    }
   ],
   "source": [
    "import pandas as pd\n",
    "import numpy as np"
   ]
  },
  {
   "cell_type": "markdown",
   "metadata": {},
   "source": [
    "## Reading  CSV"
   ]
  },
  {
   "cell_type": "code",
   "execution_count": 49,
   "metadata": {},
   "outputs": [],
   "source": [
    "df= pd.read_excel('Assignment_Timecard.xlsx', engine='openpyxl')"
   ]
  },
  {
   "cell_type": "markdown",
   "metadata": {},
   "source": [
    "##Preprocessing"
   ]
  },
  {
   "cell_type": "code",
   "execution_count": 50,
   "metadata": {},
   "outputs": [
    {
     "data": {
      "text/plain": [
       "<bound method NDFrame.head of      Position ID Position Status                Time            Time Out  \\\n",
       "0      WFS000054          Active                 NaT                 NaT   \n",
       "1      WFS000065          Active 2023-09-12 10:08:00 2023-09-12 13:53:00   \n",
       "2      WFS000065          Active 2023-09-12 14:23:00 2023-09-12 19:02:00   \n",
       "3      WFS000065          Active 2023-09-13 10:08:00 2023-09-13 14:20:00   \n",
       "4      WFS000065          Active 2023-09-13 14:50:00 2023-09-13 20:44:00   \n",
       "...          ...             ...                 ...                 ...   \n",
       "1479   WFS000589          Active 2023-09-20 09:55:00 2023-09-20 14:30:00   \n",
       "1480   WFS000589          Active 2023-09-20 15:00:00 2023-09-20 19:29:41   \n",
       "1481   WFS000589          Active 2023-09-21 09:56:00 2023-09-21 14:30:00   \n",
       "1482   WFS000589          Active 2023-09-21 15:00:01 2023-09-21 19:16:05   \n",
       "1483   WFS000591          Active                 NaT                 NaT   \n",
       "\n",
       "     Timecard Hours (as Time) Pay Cycle Start Date Pay Cycle End Date  \\\n",
       "0                         NaN                  NaT                NaT   \n",
       "1                        3:45           2023-09-10         2023-09-23   \n",
       "2                        4:39           2023-09-10         2023-09-23   \n",
       "3                        4:12           2023-09-10         2023-09-23   \n",
       "4                        5:54           2023-09-10         2023-09-23   \n",
       "...                       ...                  ...                ...   \n",
       "1479                     4:35           2023-09-10         2023-09-23   \n",
       "1480                     4:29           2023-09-10         2023-09-23   \n",
       "1481                     4:34           2023-09-10         2023-09-23   \n",
       "1482                     4:16           2023-09-10         2023-09-23   \n",
       "1483                      NaN                  NaT                NaT   \n",
       "\n",
       "                    Employee Name  File Number  Unnamed: 9 Unnamed: 10  \n",
       "0                 SiWgh, PraGhjEM           54         NaN         NaN  \n",
       "1                 REsaXiaWE, XAis           65         NaN         NaN  \n",
       "2                 REsaXiaWE, XAis           65         NaN         NaN  \n",
       "3                 REsaXiaWE, XAis           65         NaN         NaN  \n",
       "4                 REsaXiaWE, XAis           65         NaN         NaN  \n",
       "...                           ...          ...         ...         ...  \n",
       "1479              WgAyeW, RayCEWd          589         NaN         NaN  \n",
       "1480              WgAyeW, RayCEWd          589         NaN         NaN  \n",
       "1481              WgAyeW, RayCEWd          589         NaN         NaN  \n",
       "1482              WgAyeW, RayCEWd          589         NaN         NaN  \n",
       "1483  ArveXE RECerE, AWdres JesAs          591         NaN         NaN  \n",
       "\n",
       "[1484 rows x 11 columns]>"
      ]
     },
     "execution_count": 50,
     "metadata": {},
     "output_type": "execute_result"
    }
   ],
   "source": [
    "df.head"
   ]
  },
  {
   "cell_type": "code",
   "execution_count": null,
   "metadata": {},
   "outputs": [],
   "source": []
  },
  {
   "cell_type": "code",
   "execution_count": 46,
   "metadata": {},
   "outputs": [
    {
     "name": "stdout",
     "output_type": "stream",
     "text": [
      "  Position ID Position Status                Time            Time Out  \\\n",
      "1   WFS000065          Active 2023-09-12 10:08:00 2023-09-12 13:53:00   \n",
      "2   WFS000065          Active 2023-09-12 14:23:00 2023-09-12 19:02:00   \n",
      "3   WFS000065          Active 2023-09-13 10:08:00 2023-09-13 14:20:00   \n",
      "4   WFS000065          Active 2023-09-13 14:50:00 2023-09-13 20:44:00   \n",
      "5   WFS000065          Active 2023-09-14 10:09:00 2023-09-14 14:30:56   \n",
      "\n",
      "  Timecard Hours (as Time) Pay Cycle Start Date Pay Cycle End Date  \\\n",
      "1                     3:45           2023-09-10         2023-09-23   \n",
      "2                     4:39           2023-09-10         2023-09-23   \n",
      "3                     4:12           2023-09-10         2023-09-23   \n",
      "4                     5:54           2023-09-10         2023-09-23   \n",
      "5                     4:21           2023-09-10         2023-09-23   \n",
      "\n",
      "     Employee Name  File Number  \n",
      "1  REsaXiaWE, XAis           65  \n",
      "2  REsaXiaWE, XAis           65  \n",
      "3  REsaXiaWE, XAis           65  \n",
      "4  REsaXiaWE, XAis           65  \n",
      "5  REsaXiaWE, XAis           65  \n"
     ]
    }
   ],
   "source": [
    "print(df.dropna().head())"
   ]
  },
  {
   "cell_type": "code",
   "execution_count": 58,
   "metadata": {},
   "outputs": [
    {
     "name": "stdout",
     "output_type": "stream",
     "text": [
      "['Active']\n"
     ]
    }
   ],
   "source": [
    "print(df['Position Status'].unique())\n",
    "## Only active positions are included in dataframe so need for further computation"
   ]
  },
  {
   "cell_type": "markdown",
   "metadata": {},
   "source": [
    "## Removing empty unwanted columns"
   ]
  },
  {
   "cell_type": "code",
   "execution_count": 52,
   "metadata": {},
   "outputs": [
    {
     "ename": "KeyError",
     "evalue": "\"['Unnamed: 9'] not found in axis\"",
     "output_type": "error",
     "traceback": [
      "\u001b[1;31m---------------------------------------------------------------------------\u001b[0m",
      "\u001b[1;31mKeyError\u001b[0m                                  Traceback (most recent call last)",
      "Cell \u001b[1;32mIn[52], line 1\u001b[0m\n\u001b[1;32m----> 1\u001b[0m \u001b[43mdf\u001b[49m\u001b[38;5;241;43m.\u001b[39;49m\u001b[43mdrop\u001b[49m\u001b[43m(\u001b[49m\u001b[38;5;124;43m'\u001b[39;49m\u001b[38;5;124;43mUnnamed: 9\u001b[39;49m\u001b[38;5;124;43m'\u001b[39;49m\u001b[43m,\u001b[49m\u001b[43maxis\u001b[49m\u001b[38;5;241;43m=\u001b[39;49m\u001b[38;5;241;43m1\u001b[39;49m\u001b[43m,\u001b[49m\u001b[43m \u001b[49m\u001b[43minplace\u001b[49m\u001b[38;5;241;43m=\u001b[39;49m\u001b[38;5;28;43;01mTrue\u001b[39;49;00m\u001b[43m)\u001b[49m\n\u001b[0;32m      2\u001b[0m df\u001b[38;5;241m.\u001b[39mdrop(\u001b[38;5;124m'\u001b[39m\u001b[38;5;124mUnnamed: 10\u001b[39m\u001b[38;5;124m'\u001b[39m,axis\u001b[38;5;241m=\u001b[39m\u001b[38;5;241m1\u001b[39m, inplace\u001b[38;5;241m=\u001b[39m\u001b[38;5;28;01mTrue\u001b[39;00m)\n\u001b[0;32m      3\u001b[0m df\u001b[38;5;241m.\u001b[39mhead()\n",
      "File \u001b[1;32md:\\Assignments\\Bluejay\\.venv\\Lib\\site-packages\\pandas\\core\\frame.py:5568\u001b[0m, in \u001b[0;36mDataFrame.drop\u001b[1;34m(self, labels, axis, index, columns, level, inplace, errors)\u001b[0m\n\u001b[0;32m   5420\u001b[0m \u001b[38;5;28;01mdef\u001b[39;00m \u001b[38;5;21mdrop\u001b[39m(\n\u001b[0;32m   5421\u001b[0m     \u001b[38;5;28mself\u001b[39m,\n\u001b[0;32m   5422\u001b[0m     labels: IndexLabel \u001b[38;5;241m|\u001b[39m \u001b[38;5;28;01mNone\u001b[39;00m \u001b[38;5;241m=\u001b[39m \u001b[38;5;28;01mNone\u001b[39;00m,\n\u001b[1;32m   (...)\u001b[0m\n\u001b[0;32m   5429\u001b[0m     errors: IgnoreRaise \u001b[38;5;241m=\u001b[39m \u001b[38;5;124m\"\u001b[39m\u001b[38;5;124mraise\u001b[39m\u001b[38;5;124m\"\u001b[39m,\n\u001b[0;32m   5430\u001b[0m ) \u001b[38;5;241m-\u001b[39m\u001b[38;5;241m>\u001b[39m DataFrame \u001b[38;5;241m|\u001b[39m \u001b[38;5;28;01mNone\u001b[39;00m:\n\u001b[0;32m   5431\u001b[0m \u001b[38;5;250m    \u001b[39m\u001b[38;5;124;03m\"\"\"\u001b[39;00m\n\u001b[0;32m   5432\u001b[0m \u001b[38;5;124;03m    Drop specified labels from rows or columns.\u001b[39;00m\n\u001b[0;32m   5433\u001b[0m \n\u001b[1;32m   (...)\u001b[0m\n\u001b[0;32m   5566\u001b[0m \u001b[38;5;124;03m            weight  1.0     0.8\u001b[39;00m\n\u001b[0;32m   5567\u001b[0m \u001b[38;5;124;03m    \"\"\"\u001b[39;00m\n\u001b[1;32m-> 5568\u001b[0m     \u001b[38;5;28;01mreturn\u001b[39;00m \u001b[38;5;28;43msuper\u001b[39;49m\u001b[43m(\u001b[49m\u001b[43m)\u001b[49m\u001b[38;5;241;43m.\u001b[39;49m\u001b[43mdrop\u001b[49m\u001b[43m(\u001b[49m\n\u001b[0;32m   5569\u001b[0m \u001b[43m        \u001b[49m\u001b[43mlabels\u001b[49m\u001b[38;5;241;43m=\u001b[39;49m\u001b[43mlabels\u001b[49m\u001b[43m,\u001b[49m\n\u001b[0;32m   5570\u001b[0m \u001b[43m        \u001b[49m\u001b[43maxis\u001b[49m\u001b[38;5;241;43m=\u001b[39;49m\u001b[43maxis\u001b[49m\u001b[43m,\u001b[49m\n\u001b[0;32m   5571\u001b[0m \u001b[43m        \u001b[49m\u001b[43mindex\u001b[49m\u001b[38;5;241;43m=\u001b[39;49m\u001b[43mindex\u001b[49m\u001b[43m,\u001b[49m\n\u001b[0;32m   5572\u001b[0m \u001b[43m        \u001b[49m\u001b[43mcolumns\u001b[49m\u001b[38;5;241;43m=\u001b[39;49m\u001b[43mcolumns\u001b[49m\u001b[43m,\u001b[49m\n\u001b[0;32m   5573\u001b[0m \u001b[43m        \u001b[49m\u001b[43mlevel\u001b[49m\u001b[38;5;241;43m=\u001b[39;49m\u001b[43mlevel\u001b[49m\u001b[43m,\u001b[49m\n\u001b[0;32m   5574\u001b[0m \u001b[43m        \u001b[49m\u001b[43minplace\u001b[49m\u001b[38;5;241;43m=\u001b[39;49m\u001b[43minplace\u001b[49m\u001b[43m,\u001b[49m\n\u001b[0;32m   5575\u001b[0m \u001b[43m        \u001b[49m\u001b[43merrors\u001b[49m\u001b[38;5;241;43m=\u001b[39;49m\u001b[43merrors\u001b[49m\u001b[43m,\u001b[49m\n\u001b[0;32m   5576\u001b[0m \u001b[43m    \u001b[49m\u001b[43m)\u001b[49m\n",
      "File \u001b[1;32md:\\Assignments\\Bluejay\\.venv\\Lib\\site-packages\\pandas\\core\\generic.py:4782\u001b[0m, in \u001b[0;36mNDFrame.drop\u001b[1;34m(self, labels, axis, index, columns, level, inplace, errors)\u001b[0m\n\u001b[0;32m   4780\u001b[0m \u001b[38;5;28;01mfor\u001b[39;00m axis, labels \u001b[38;5;129;01min\u001b[39;00m axes\u001b[38;5;241m.\u001b[39mitems():\n\u001b[0;32m   4781\u001b[0m     \u001b[38;5;28;01mif\u001b[39;00m labels \u001b[38;5;129;01mis\u001b[39;00m \u001b[38;5;129;01mnot\u001b[39;00m \u001b[38;5;28;01mNone\u001b[39;00m:\n\u001b[1;32m-> 4782\u001b[0m         obj \u001b[38;5;241m=\u001b[39m \u001b[43mobj\u001b[49m\u001b[38;5;241;43m.\u001b[39;49m\u001b[43m_drop_axis\u001b[49m\u001b[43m(\u001b[49m\u001b[43mlabels\u001b[49m\u001b[43m,\u001b[49m\u001b[43m \u001b[49m\u001b[43maxis\u001b[49m\u001b[43m,\u001b[49m\u001b[43m \u001b[49m\u001b[43mlevel\u001b[49m\u001b[38;5;241;43m=\u001b[39;49m\u001b[43mlevel\u001b[49m\u001b[43m,\u001b[49m\u001b[43m \u001b[49m\u001b[43merrors\u001b[49m\u001b[38;5;241;43m=\u001b[39;49m\u001b[43merrors\u001b[49m\u001b[43m)\u001b[49m\n\u001b[0;32m   4784\u001b[0m \u001b[38;5;28;01mif\u001b[39;00m inplace:\n\u001b[0;32m   4785\u001b[0m     \u001b[38;5;28mself\u001b[39m\u001b[38;5;241m.\u001b[39m_update_inplace(obj)\n",
      "File \u001b[1;32md:\\Assignments\\Bluejay\\.venv\\Lib\\site-packages\\pandas\\core\\generic.py:4824\u001b[0m, in \u001b[0;36mNDFrame._drop_axis\u001b[1;34m(self, labels, axis, level, errors, only_slice)\u001b[0m\n\u001b[0;32m   4822\u001b[0m         new_axis \u001b[38;5;241m=\u001b[39m axis\u001b[38;5;241m.\u001b[39mdrop(labels, level\u001b[38;5;241m=\u001b[39mlevel, errors\u001b[38;5;241m=\u001b[39merrors)\n\u001b[0;32m   4823\u001b[0m     \u001b[38;5;28;01melse\u001b[39;00m:\n\u001b[1;32m-> 4824\u001b[0m         new_axis \u001b[38;5;241m=\u001b[39m \u001b[43maxis\u001b[49m\u001b[38;5;241;43m.\u001b[39;49m\u001b[43mdrop\u001b[49m\u001b[43m(\u001b[49m\u001b[43mlabels\u001b[49m\u001b[43m,\u001b[49m\u001b[43m \u001b[49m\u001b[43merrors\u001b[49m\u001b[38;5;241;43m=\u001b[39;49m\u001b[43merrors\u001b[49m\u001b[43m)\u001b[49m\n\u001b[0;32m   4825\u001b[0m     indexer \u001b[38;5;241m=\u001b[39m axis\u001b[38;5;241m.\u001b[39mget_indexer(new_axis)\n\u001b[0;32m   4827\u001b[0m \u001b[38;5;66;03m# Case for non-unique axis\u001b[39;00m\n\u001b[0;32m   4828\u001b[0m \u001b[38;5;28;01melse\u001b[39;00m:\n",
      "File \u001b[1;32md:\\Assignments\\Bluejay\\.venv\\Lib\\site-packages\\pandas\\core\\indexes\\base.py:7069\u001b[0m, in \u001b[0;36mIndex.drop\u001b[1;34m(self, labels, errors)\u001b[0m\n\u001b[0;32m   7067\u001b[0m \u001b[38;5;28;01mif\u001b[39;00m mask\u001b[38;5;241m.\u001b[39many():\n\u001b[0;32m   7068\u001b[0m     \u001b[38;5;28;01mif\u001b[39;00m errors \u001b[38;5;241m!=\u001b[39m \u001b[38;5;124m\"\u001b[39m\u001b[38;5;124mignore\u001b[39m\u001b[38;5;124m\"\u001b[39m:\n\u001b[1;32m-> 7069\u001b[0m         \u001b[38;5;28;01mraise\u001b[39;00m \u001b[38;5;167;01mKeyError\u001b[39;00m(\u001b[38;5;124mf\u001b[39m\u001b[38;5;124m\"\u001b[39m\u001b[38;5;132;01m{\u001b[39;00mlabels[mask]\u001b[38;5;241m.\u001b[39mtolist()\u001b[38;5;132;01m}\u001b[39;00m\u001b[38;5;124m not found in axis\u001b[39m\u001b[38;5;124m\"\u001b[39m)\n\u001b[0;32m   7070\u001b[0m     indexer \u001b[38;5;241m=\u001b[39m indexer[\u001b[38;5;241m~\u001b[39mmask]\n\u001b[0;32m   7071\u001b[0m \u001b[38;5;28;01mreturn\u001b[39;00m \u001b[38;5;28mself\u001b[39m\u001b[38;5;241m.\u001b[39mdelete(indexer)\n",
      "\u001b[1;31mKeyError\u001b[0m: \"['Unnamed: 9'] not found in axis\""
     ]
    }
   ],
   "source": [
    "df.drop('Unnamed: 9',axis=1, inplace=True)\n",
    "df.drop('Unnamed: 10',axis=1, inplace=True)\n",
    "df.head()"
   ]
  },
  {
   "cell_type": "markdown",
   "metadata": {},
   "source": [
    "## Dropping Null values"
   ]
  },
  {
   "cell_type": "code",
   "execution_count": 53,
   "metadata": {},
   "outputs": [],
   "source": [
    "df.dropna(inplace=True)"
   ]
  },
  {
   "cell_type": "code",
   "execution_count": 47,
   "metadata": {},
   "outputs": [
    {
     "data": {
      "text/html": [
       "<div>\n",
       "<style scoped>\n",
       "    .dataframe tbody tr th:only-of-type {\n",
       "        vertical-align: middle;\n",
       "    }\n",
       "\n",
       "    .dataframe tbody tr th {\n",
       "        vertical-align: top;\n",
       "    }\n",
       "\n",
       "    .dataframe thead th {\n",
       "        text-align: right;\n",
       "    }\n",
       "</style>\n",
       "<table border=\"1\" class=\"dataframe\">\n",
       "  <thead>\n",
       "    <tr style=\"text-align: right;\">\n",
       "      <th></th>\n",
       "      <th>Position ID</th>\n",
       "      <th>Position Status</th>\n",
       "      <th>Time</th>\n",
       "      <th>Time Out</th>\n",
       "      <th>Timecard Hours (as Time)</th>\n",
       "      <th>Pay Cycle Start Date</th>\n",
       "      <th>Pay Cycle End Date</th>\n",
       "      <th>Employee Name</th>\n",
       "      <th>File Number</th>\n",
       "    </tr>\n",
       "  </thead>\n",
       "  <tbody>\n",
       "    <tr>\n",
       "      <th>0</th>\n",
       "      <td>WFS000054</td>\n",
       "      <td>Active</td>\n",
       "      <td>NaT</td>\n",
       "      <td>NaT</td>\n",
       "      <td>NaN</td>\n",
       "      <td>NaT</td>\n",
       "      <td>NaT</td>\n",
       "      <td>SiWgh, PraGhjEM</td>\n",
       "      <td>54</td>\n",
       "    </tr>\n",
       "    <tr>\n",
       "      <th>1</th>\n",
       "      <td>WFS000065</td>\n",
       "      <td>Active</td>\n",
       "      <td>2023-09-12 10:08:00</td>\n",
       "      <td>2023-09-12 13:53:00</td>\n",
       "      <td>3:45</td>\n",
       "      <td>2023-09-10</td>\n",
       "      <td>2023-09-23</td>\n",
       "      <td>REsaXiaWE, XAis</td>\n",
       "      <td>65</td>\n",
       "    </tr>\n",
       "    <tr>\n",
       "      <th>2</th>\n",
       "      <td>WFS000065</td>\n",
       "      <td>Active</td>\n",
       "      <td>2023-09-12 14:23:00</td>\n",
       "      <td>2023-09-12 19:02:00</td>\n",
       "      <td>4:39</td>\n",
       "      <td>2023-09-10</td>\n",
       "      <td>2023-09-23</td>\n",
       "      <td>REsaXiaWE, XAis</td>\n",
       "      <td>65</td>\n",
       "    </tr>\n",
       "    <tr>\n",
       "      <th>3</th>\n",
       "      <td>WFS000065</td>\n",
       "      <td>Active</td>\n",
       "      <td>2023-09-13 10:08:00</td>\n",
       "      <td>2023-09-13 14:20:00</td>\n",
       "      <td>4:12</td>\n",
       "      <td>2023-09-10</td>\n",
       "      <td>2023-09-23</td>\n",
       "      <td>REsaXiaWE, XAis</td>\n",
       "      <td>65</td>\n",
       "    </tr>\n",
       "    <tr>\n",
       "      <th>4</th>\n",
       "      <td>WFS000065</td>\n",
       "      <td>Active</td>\n",
       "      <td>2023-09-13 14:50:00</td>\n",
       "      <td>2023-09-13 20:44:00</td>\n",
       "      <td>5:54</td>\n",
       "      <td>2023-09-10</td>\n",
       "      <td>2023-09-23</td>\n",
       "      <td>REsaXiaWE, XAis</td>\n",
       "      <td>65</td>\n",
       "    </tr>\n",
       "  </tbody>\n",
       "</table>\n",
       "</div>"
      ],
      "text/plain": [
       "  Position ID Position Status                Time            Time Out  \\\n",
       "0   WFS000054          Active                 NaT                 NaT   \n",
       "1   WFS000065          Active 2023-09-12 10:08:00 2023-09-12 13:53:00   \n",
       "2   WFS000065          Active 2023-09-12 14:23:00 2023-09-12 19:02:00   \n",
       "3   WFS000065          Active 2023-09-13 10:08:00 2023-09-13 14:20:00   \n",
       "4   WFS000065          Active 2023-09-13 14:50:00 2023-09-13 20:44:00   \n",
       "\n",
       "  Timecard Hours (as Time) Pay Cycle Start Date Pay Cycle End Date  \\\n",
       "0                      NaN                  NaT                NaT   \n",
       "1                     3:45           2023-09-10         2023-09-23   \n",
       "2                     4:39           2023-09-10         2023-09-23   \n",
       "3                     4:12           2023-09-10         2023-09-23   \n",
       "4                     5:54           2023-09-10         2023-09-23   \n",
       "\n",
       "     Employee Name  File Number  \n",
       "0  SiWgh, PraGhjEM           54  \n",
       "1  REsaXiaWE, XAis           65  \n",
       "2  REsaXiaWE, XAis           65  \n",
       "3  REsaXiaWE, XAis           65  \n",
       "4  REsaXiaWE, XAis           65  "
      ]
     },
     "execution_count": 47,
     "metadata": {},
     "output_type": "execute_result"
    }
   ],
   "source": [
    "df.head()"
   ]
  },
  {
   "cell_type": "markdown",
   "metadata": {},
   "source": [
    "## Inorder to access the date from datetime from dataframe, we will parse the Time and Time Out column"
   ]
  },
  {
   "cell_type": "code",
   "execution_count": 54,
   "metadata": {},
   "outputs": [
    {
     "name": "stdout",
     "output_type": "stream",
     "text": [
      "  Position ID Position Status                Time            Time Out  \\\n",
      "1   WFS000065          Active 2023-09-12 10:08:00 2023-09-12 13:53:00   \n",
      "2   WFS000065          Active 2023-09-12 14:23:00 2023-09-12 19:02:00   \n",
      "3   WFS000065          Active 2023-09-13 10:08:00 2023-09-13 14:20:00   \n",
      "4   WFS000065          Active 2023-09-13 14:50:00 2023-09-13 20:44:00   \n",
      "5   WFS000065          Active 2023-09-14 10:09:00 2023-09-14 14:30:56   \n",
      "\n",
      "  Timecard Hours (as Time) Pay Cycle Start Date Pay Cycle End Date  \\\n",
      "1                     3:45           2023-09-10         2023-09-23   \n",
      "2                     4:39           2023-09-10         2023-09-23   \n",
      "3                     4:12           2023-09-10         2023-09-23   \n",
      "4                     5:54           2023-09-10         2023-09-23   \n",
      "5                     4:21           2023-09-10         2023-09-23   \n",
      "\n",
      "     Employee Name  File Number  \n",
      "1  REsaXiaWE, XAis           65  \n",
      "2  REsaXiaWE, XAis           65  \n",
      "3  REsaXiaWE, XAis           65  \n",
      "4  REsaXiaWE, XAis           65  \n",
      "5  REsaXiaWE, XAis           65  \n"
     ]
    }
   ],
   "source": [
    "\n",
    "df['Time'] = pd.to_datetime(df['Time'])\n",
    "df['Time Out'] = pd.to_datetime(df['Time Out'])\n",
    "print(df.head())"
   ]
  },
  {
   "cell_type": "markdown",
   "metadata": {},
   "source": [
    "## Sorting data on basis of Employee and then on Time"
   ]
  },
  {
   "cell_type": "code",
   "execution_count": 56,
   "metadata": {},
   "outputs": [],
   "source": [
    "df = df.sort_values(by=['Position ID', 'Time'])\n"
   ]
  },
  {
   "cell_type": "markdown",
   "metadata": {},
   "source": [
    "## Done with Preprocessing\n",
    "# Creating  Lists for Output"
   ]
  },
  {
   "cell_type": "code",
   "execution_count": 55,
   "metadata": {},
   "outputs": [],
   "source": [
    "conescutive_days_7=[]\n",
    "worked_less_than_10 =[]\n",
    "worked_more_than_14 = []"
   ]
  },
  {
   "cell_type": "code",
   "execution_count": 59,
   "metadata": {},
   "outputs": [
    {
     "data": {
      "text/html": [
       "<div>\n",
       "<style scoped>\n",
       "    .dataframe tbody tr th:only-of-type {\n",
       "        vertical-align: middle;\n",
       "    }\n",
       "\n",
       "    .dataframe tbody tr th {\n",
       "        vertical-align: top;\n",
       "    }\n",
       "\n",
       "    .dataframe thead th {\n",
       "        text-align: right;\n",
       "    }\n",
       "</style>\n",
       "<table border=\"1\" class=\"dataframe\">\n",
       "  <thead>\n",
       "    <tr style=\"text-align: right;\">\n",
       "      <th></th>\n",
       "      <th>Position ID</th>\n",
       "      <th>Position Status</th>\n",
       "      <th>Time</th>\n",
       "      <th>Time Out</th>\n",
       "      <th>Timecard Hours (as Time)</th>\n",
       "      <th>Pay Cycle Start Date</th>\n",
       "      <th>Pay Cycle End Date</th>\n",
       "      <th>Employee Name</th>\n",
       "      <th>File Number</th>\n",
       "    </tr>\n",
       "  </thead>\n",
       "  <tbody>\n",
       "    <tr>\n",
       "      <th>1</th>\n",
       "      <td>WFS000065</td>\n",
       "      <td>Active</td>\n",
       "      <td>2023-09-12 10:08:00</td>\n",
       "      <td>2023-09-12 13:53:00</td>\n",
       "      <td>3:45</td>\n",
       "      <td>2023-09-10</td>\n",
       "      <td>2023-09-23</td>\n",
       "      <td>REsaXiaWE, XAis</td>\n",
       "      <td>65</td>\n",
       "    </tr>\n",
       "    <tr>\n",
       "      <th>2</th>\n",
       "      <td>WFS000065</td>\n",
       "      <td>Active</td>\n",
       "      <td>2023-09-12 14:23:00</td>\n",
       "      <td>2023-09-12 19:02:00</td>\n",
       "      <td>4:39</td>\n",
       "      <td>2023-09-10</td>\n",
       "      <td>2023-09-23</td>\n",
       "      <td>REsaXiaWE, XAis</td>\n",
       "      <td>65</td>\n",
       "    </tr>\n",
       "    <tr>\n",
       "      <th>3</th>\n",
       "      <td>WFS000065</td>\n",
       "      <td>Active</td>\n",
       "      <td>2023-09-13 10:08:00</td>\n",
       "      <td>2023-09-13 14:20:00</td>\n",
       "      <td>4:12</td>\n",
       "      <td>2023-09-10</td>\n",
       "      <td>2023-09-23</td>\n",
       "      <td>REsaXiaWE, XAis</td>\n",
       "      <td>65</td>\n",
       "    </tr>\n",
       "    <tr>\n",
       "      <th>4</th>\n",
       "      <td>WFS000065</td>\n",
       "      <td>Active</td>\n",
       "      <td>2023-09-13 14:50:00</td>\n",
       "      <td>2023-09-13 20:44:00</td>\n",
       "      <td>5:54</td>\n",
       "      <td>2023-09-10</td>\n",
       "      <td>2023-09-23</td>\n",
       "      <td>REsaXiaWE, XAis</td>\n",
       "      <td>65</td>\n",
       "    </tr>\n",
       "    <tr>\n",
       "      <th>5</th>\n",
       "      <td>WFS000065</td>\n",
       "      <td>Active</td>\n",
       "      <td>2023-09-14 10:09:00</td>\n",
       "      <td>2023-09-14 14:30:56</td>\n",
       "      <td>4:21</td>\n",
       "      <td>2023-09-10</td>\n",
       "      <td>2023-09-23</td>\n",
       "      <td>REsaXiaWE, XAis</td>\n",
       "      <td>65</td>\n",
       "    </tr>\n",
       "  </tbody>\n",
       "</table>\n",
       "</div>"
      ],
      "text/plain": [
       "  Position ID Position Status                Time            Time Out  \\\n",
       "1   WFS000065          Active 2023-09-12 10:08:00 2023-09-12 13:53:00   \n",
       "2   WFS000065          Active 2023-09-12 14:23:00 2023-09-12 19:02:00   \n",
       "3   WFS000065          Active 2023-09-13 10:08:00 2023-09-13 14:20:00   \n",
       "4   WFS000065          Active 2023-09-13 14:50:00 2023-09-13 20:44:00   \n",
       "5   WFS000065          Active 2023-09-14 10:09:00 2023-09-14 14:30:56   \n",
       "\n",
       "  Timecard Hours (as Time) Pay Cycle Start Date Pay Cycle End Date  \\\n",
       "1                     3:45           2023-09-10         2023-09-23   \n",
       "2                     4:39           2023-09-10         2023-09-23   \n",
       "3                     4:12           2023-09-10         2023-09-23   \n",
       "4                     5:54           2023-09-10         2023-09-23   \n",
       "5                     4:21           2023-09-10         2023-09-23   \n",
       "\n",
       "     Employee Name  File Number  \n",
       "1  REsaXiaWE, XAis           65  \n",
       "2  REsaXiaWE, XAis           65  \n",
       "3  REsaXiaWE, XAis           65  \n",
       "4  REsaXiaWE, XAis           65  \n",
       "5  REsaXiaWE, XAis           65  "
      ]
     },
     "execution_count": 59,
     "metadata": {},
     "output_type": "execute_result"
    }
   ],
   "source": [
    "df.head()"
   ]
  },
  {
   "cell_type": "code",
   "execution_count": null,
   "metadata": {},
   "outputs": [],
   "source": []
  }
 ],
 "metadata": {
  "kernelspec": {
   "display_name": ".venv",
   "language": "python",
   "name": "python3"
  },
  "language_info": {
   "codemirror_mode": {
    "name": "ipython",
    "version": 3
   },
   "file_extension": ".py",
   "mimetype": "text/x-python",
   "name": "python",
   "nbconvert_exporter": "python",
   "pygments_lexer": "ipython3",
   "version": "3.12.0"
  }
 },
 "nbformat": 4,
 "nbformat_minor": 2
}
